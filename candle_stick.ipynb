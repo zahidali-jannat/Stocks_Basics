{
 "cells": [
  {
   "cell_type": "markdown",
   "id": "42a5d216-9294-457b-82ac-2e88df827578",
   "metadata": {},
   "source": [
    "Required libraries required for this project \n"
   ]
  },
  {
   "cell_type": "code",
   "execution_count": 54,
   "id": "3fca516b-c7f0-4653-98b7-e19efbad72d7",
   "metadata": {},
   "outputs": [],
   "source": [
    "import datetime as dt\n",
    "import pandas_datareader as web\n",
    "import matplotlib.pyplot as plt\n",
    "import matplotlib.dates as mdates\n",
    "import mplfinance as mpf\n",
    "import yfinance as yf\n",
    "import pandas as pd"
   ]
  },
  {
   "cell_type": "code",
   "execution_count": 55,
   "id": "bd8b4aed-6134-45a1-b29a-818540f907f9",
   "metadata": {},
   "outputs": [],
   "source": [
    "start_date=dt.datetime(2025,1,1)"
   ]
  },
  {
   "cell_type": "code",
   "execution_count": 56,
   "id": "3b04f07a-3931-40cd-a3b8-1ede1ea45e74",
   "metadata": {},
   "outputs": [],
   "source": [
    "end_date=dt.datetime.now()"
   ]
  },
  {
   "cell_type": "code",
   "execution_count": 57,
   "id": "8dab8a6d-b8b0-4eb1-8ca7-ee56437a1e92",
   "metadata": {},
   "outputs": [
    {
     "name": "stderr",
     "output_type": "stream",
     "text": [
      "C:\\Users\\za220\\AppData\\Local\\Temp\\ipykernel_25472\\3235560474.py:1: FutureWarning: YF.download() has changed argument auto_adjust default to True\n",
      "  data=yf.download('AAPL' , start_date , end_date , multi_level_index=False)\n",
      "[*********************100%***********************]  1 of 1 completed\n"
     ]
    }
   ],
   "source": [
    "data=yf.download('AAPL' , start_date , end_date , multi_level_index=False)"
   ]
  },
  {
   "cell_type": "code",
   "execution_count": 65,
   "id": "c187e62f-450e-4b6f-afe6-96c0ebd70e5f",
   "metadata": {},
   "outputs": [
    {
     "data": {
      "text/plain": [
       "DatetimeIndex(['2025-01-02', '2025-01-03', '2025-01-06', '2025-01-07',\n",
       "               '2025-01-08', '2025-01-10', '2025-01-13', '2025-01-14',\n",
       "               '2025-01-15', '2025-01-16',\n",
       "               ...\n",
       "               '2025-10-13', '2025-10-14', '2025-10-15', '2025-10-16',\n",
       "               '2025-10-17', '2025-10-20', '2025-10-21', '2025-10-22',\n",
       "               '2025-10-23', '2025-10-24'],\n",
       "              dtype='datetime64[ns]', name='Date', length=204, freq=None)"
      ]
     },
     "execution_count": 65,
     "metadata": {},
     "output_type": "execute_result"
    }
   ],
   "source": [
    "data.index"
   ]
  },
  {
   "cell_type": "code",
   "execution_count": null,
   "id": "6382e9f3-40c1-4ce3-8353-a8b00fe18559",
   "metadata": {},
   "outputs": [],
   "source": []
  },
  {
   "cell_type": "code",
   "execution_count": 66,
   "id": "fc05509f-59ed-4e31-a099-352b8b3fca77",
   "metadata": {},
   "outputs": [
    {
     "data": {
      "text/html": [
       "<div>\n",
       "<style scoped>\n",
       "    .dataframe tbody tr th:only-of-type {\n",
       "        vertical-align: middle;\n",
       "    }\n",
       "\n",
       "    .dataframe tbody tr th {\n",
       "        vertical-align: top;\n",
       "    }\n",
       "\n",
       "    .dataframe thead th {\n",
       "        text-align: right;\n",
       "    }\n",
       "</style>\n",
       "<table border=\"1\" class=\"dataframe\">\n",
       "  <thead>\n",
       "    <tr style=\"text-align: right;\">\n",
       "      <th></th>\n",
       "      <th>Close</th>\n",
       "      <th>High</th>\n",
       "      <th>Low</th>\n",
       "      <th>Open</th>\n",
       "      <th>Volume</th>\n",
       "    </tr>\n",
       "    <tr>\n",
       "      <th>Date</th>\n",
       "      <th></th>\n",
       "      <th></th>\n",
       "      <th></th>\n",
       "      <th></th>\n",
       "      <th></th>\n",
       "    </tr>\n",
       "  </thead>\n",
       "  <tbody>\n",
       "    <tr>\n",
       "      <th>2025-01-02</th>\n",
       "      <td>242.987411</td>\n",
       "      <td>248.218840</td>\n",
       "      <td>240.964594</td>\n",
       "      <td>248.049428</td>\n",
       "      <td>55740700</td>\n",
       "    </tr>\n",
       "    <tr>\n",
       "      <th>2025-01-03</th>\n",
       "      <td>242.499161</td>\n",
       "      <td>243.316252</td>\n",
       "      <td>241.034359</td>\n",
       "      <td>242.499161</td>\n",
       "      <td>40244100</td>\n",
       "    </tr>\n",
       "    <tr>\n",
       "      <th>2025-01-06</th>\n",
       "      <td>244.133347</td>\n",
       "      <td>246.455106</td>\n",
       "      <td>242.339711</td>\n",
       "      <td>243.445785</td>\n",
       "      <td>45045600</td>\n",
       "    </tr>\n",
       "    <tr>\n",
       "      <th>2025-01-07</th>\n",
       "      <td>241.353226</td>\n",
       "      <td>244.681407</td>\n",
       "      <td>240.496267</td>\n",
       "      <td>242.120491</td>\n",
       "      <td>40856000</td>\n",
       "    </tr>\n",
       "    <tr>\n",
       "      <th>2025-01-08</th>\n",
       "      <td>241.841492</td>\n",
       "      <td>242.847929</td>\n",
       "      <td>239.200872</td>\n",
       "      <td>241.064252</td>\n",
       "      <td>37628900</td>\n",
       "    </tr>\n",
       "    <tr>\n",
       "      <th>...</th>\n",
       "      <td>...</td>\n",
       "      <td>...</td>\n",
       "      <td>...</td>\n",
       "      <td>...</td>\n",
       "      <td>...</td>\n",
       "    </tr>\n",
       "    <tr>\n",
       "      <th>2025-10-20</th>\n",
       "      <td>262.239990</td>\n",
       "      <td>264.380005</td>\n",
       "      <td>255.630005</td>\n",
       "      <td>255.889999</td>\n",
       "      <td>90483000</td>\n",
       "    </tr>\n",
       "    <tr>\n",
       "      <th>2025-10-21</th>\n",
       "      <td>262.769989</td>\n",
       "      <td>265.290009</td>\n",
       "      <td>261.829987</td>\n",
       "      <td>261.880005</td>\n",
       "      <td>46695900</td>\n",
       "    </tr>\n",
       "    <tr>\n",
       "      <th>2025-10-22</th>\n",
       "      <td>258.450012</td>\n",
       "      <td>262.850006</td>\n",
       "      <td>255.429993</td>\n",
       "      <td>262.649994</td>\n",
       "      <td>45015300</td>\n",
       "    </tr>\n",
       "    <tr>\n",
       "      <th>2025-10-23</th>\n",
       "      <td>259.579987</td>\n",
       "      <td>260.619995</td>\n",
       "      <td>258.010010</td>\n",
       "      <td>259.940002</td>\n",
       "      <td>32754900</td>\n",
       "    </tr>\n",
       "    <tr>\n",
       "      <th>2025-10-24</th>\n",
       "      <td>262.820007</td>\n",
       "      <td>264.130005</td>\n",
       "      <td>259.179993</td>\n",
       "      <td>261.190002</td>\n",
       "      <td>38221700</td>\n",
       "    </tr>\n",
       "  </tbody>\n",
       "</table>\n",
       "<p>204 rows × 5 columns</p>\n",
       "</div>"
      ],
      "text/plain": [
       "                 Close        High         Low        Open    Volume\n",
       "Date                                                                \n",
       "2025-01-02  242.987411  248.218840  240.964594  248.049428  55740700\n",
       "2025-01-03  242.499161  243.316252  241.034359  242.499161  40244100\n",
       "2025-01-06  244.133347  246.455106  242.339711  243.445785  45045600\n",
       "2025-01-07  241.353226  244.681407  240.496267  242.120491  40856000\n",
       "2025-01-08  241.841492  242.847929  239.200872  241.064252  37628900\n",
       "...                ...         ...         ...         ...       ...\n",
       "2025-10-20  262.239990  264.380005  255.630005  255.889999  90483000\n",
       "2025-10-21  262.769989  265.290009  261.829987  261.880005  46695900\n",
       "2025-10-22  258.450012  262.850006  255.429993  262.649994  45015300\n",
       "2025-10-23  259.579987  260.619995  258.010010  259.940002  32754900\n",
       "2025-10-24  262.820007  264.130005  259.179993  261.190002  38221700\n",
       "\n",
       "[204 rows x 5 columns]"
      ]
     },
     "execution_count": 66,
     "metadata": {},
     "output_type": "execute_result"
    }
   ],
   "source": [
    "data"
   ]
  },
  {
   "cell_type": "code",
   "execution_count": 88,
   "id": "14f59cfd-0e95-4a54-aab8-ae3256429d3e",
   "metadata": {},
   "outputs": [
    {
     "data": {
      "text/plain": [
       "<Mpf_Figure size 3000x1500 with 0 Axes>"
      ]
     },
     "metadata": {},
     "output_type": "display_data"
    },
    {
     "data": {
      "image/png": "[encoded data removed]",
      "text/plain": [
       "<Figure size 800x575 with 2 Axes>"
      ]
     },
     "metadata": {},
     "output_type": "display_data"
    }
   ],
   "source": [
    "mpf.figure(figsize=(30 , 15))\n",
    "mpf.plot(data, type='candle' ,style='charles')\n",
    "\n",
    "# take care data frame must have index in date time object \n",
    "# Other wise it will show error "
   ]
  },
  {
   "cell_type": "code",
   "execution_count": 75,
   "id": "20cbd755-ee4b-457e-9b2d-f5f8053229c2",
   "metadata": {},
   "outputs": [
    {
     "name": "stderr",
     "output_type": "stream",
     "text": [
      "C:\\Users\\za220\\AppData\\Local\\Temp\\ipykernel_25472\\186672653.py:1: FutureWarning: 'M' is deprecated and will be removed in a future version, please use 'ME' instead.\n",
      "  monthly_data=data.resample('M').last()\n"
     ]
    }
   ],
   "source": [
    "monthly_data=data.resample('M').last()"
   ]
  },
  {
   "cell_type": "code",
   "execution_count": 76,
   "id": "ba9ea3b6-048d-43c6-8044-de0c1d586c50",
   "metadata": {},
   "outputs": [
    {
     "data": {
      "text/html": [
       "<div>\n",
       "<style scoped>\n",
       "    .dataframe tbody tr th:only-of-type {\n",
       "        vertical-align: middle;\n",
       "    }\n",
       "\n",
       "    .dataframe tbody tr th {\n",
       "        vertical-align: top;\n",
       "    }\n",
       "\n",
       "    .dataframe thead th {\n",
       "        text-align: right;\n",
       "    }\n",
       "</style>\n",
       "<table border=\"1\" class=\"dataframe\">\n",
       "  <thead>\n",
       "    <tr style=\"text-align: right;\">\n",
       "      <th></th>\n",
       "      <th>Close</th>\n",
       "      <th>High</th>\n",
       "      <th>Low</th>\n",
       "      <th>Open</th>\n",
       "      <th>Volume</th>\n",
       "    </tr>\n",
       "    <tr>\n",
       "      <th>Date</th>\n",
       "      <th></th>\n",
       "      <th></th>\n",
       "      <th></th>\n",
       "      <th></th>\n",
       "      <th></th>\n",
       "    </tr>\n",
       "  </thead>\n",
       "  <tbody>\n",
       "    <tr>\n",
       "      <th>2025-01-31</th>\n",
       "      <td>235.165192</td>\n",
       "      <td>246.315611</td>\n",
       "      <td>232.614250</td>\n",
       "      <td>246.315611</td>\n",
       "      <td>100959800</td>\n",
       "    </tr>\n",
       "    <tr>\n",
       "      <th>2025-02-28</th>\n",
       "      <td>241.249481</td>\n",
       "      <td>241.498871</td>\n",
       "      <td>229.637904</td>\n",
       "      <td>236.371422</td>\n",
       "      <td>56833400</td>\n",
       "    </tr>\n",
       "    <tr>\n",
       "      <th>2025-03-31</th>\n",
       "      <td>221.587616</td>\n",
       "      <td>225.069084</td>\n",
       "      <td>215.702013</td>\n",
       "      <td>216.480107</td>\n",
       "      <td>65299300</td>\n",
       "    </tr>\n",
       "    <tr>\n",
       "      <th>2025-04-30</th>\n",
       "      <td>211.981125</td>\n",
       "      <td>213.058490</td>\n",
       "      <td>206.165359</td>\n",
       "      <td>208.788942</td>\n",
       "      <td>52286500</td>\n",
       "    </tr>\n",
       "    <tr>\n",
       "      <th>2025-05-31</th>\n",
       "      <td>200.622314</td>\n",
       "      <td>201.731057</td>\n",
       "      <td>196.556921</td>\n",
       "      <td>199.143981</td>\n",
       "      <td>70819900</td>\n",
       "    </tr>\n",
       "    <tr>\n",
       "      <th>2025-06-30</th>\n",
       "      <td>204.937408</td>\n",
       "      <td>207.154893</td>\n",
       "      <td>199.034105</td>\n",
       "      <td>201.780987</td>\n",
       "      <td>91912800</td>\n",
       "    </tr>\n",
       "    <tr>\n",
       "      <th>2025-07-31</th>\n",
       "      <td>207.334702</td>\n",
       "      <td>209.602117</td>\n",
       "      <td>206.925163</td>\n",
       "      <td>208.253657</td>\n",
       "      <td>80698400</td>\n",
       "    </tr>\n",
       "    <tr>\n",
       "      <th>2025-08-31</th>\n",
       "      <td>232.139999</td>\n",
       "      <td>233.380005</td>\n",
       "      <td>231.369995</td>\n",
       "      <td>232.509995</td>\n",
       "      <td>39418400</td>\n",
       "    </tr>\n",
       "    <tr>\n",
       "      <th>2025-09-30</th>\n",
       "      <td>254.630005</td>\n",
       "      <td>255.919998</td>\n",
       "      <td>253.110001</td>\n",
       "      <td>254.860001</td>\n",
       "      <td>37704300</td>\n",
       "    </tr>\n",
       "    <tr>\n",
       "      <th>2025-10-31</th>\n",
       "      <td>262.820007</td>\n",
       "      <td>264.130005</td>\n",
       "      <td>259.179993</td>\n",
       "      <td>261.190002</td>\n",
       "      <td>38221700</td>\n",
       "    </tr>\n",
       "  </tbody>\n",
       "</table>\n",
       "</div>"
      ],
      "text/plain": [
       "                 Close        High         Low        Open     Volume\n",
       "Date                                                                 \n",
       "2025-01-31  235.165192  246.315611  232.614250  246.315611  100959800\n",
       "2025-02-28  241.249481  241.498871  229.637904  236.371422   56833400\n",
       "2025-03-31  221.587616  225.069084  215.702013  216.480107   65299300\n",
       "2025-04-30  211.981125  213.058490  206.165359  208.788942   52286500\n",
       "2025-05-31  200.622314  201.731057  196.556921  199.143981   70819900\n",
       "2025-06-30  204.937408  207.154893  199.034105  201.780987   91912800\n",
       "2025-07-31  207.334702  209.602117  206.925163  208.253657   80698400\n",
       "2025-08-31  232.139999  233.380005  231.369995  232.509995   39418400\n",
       "2025-09-30  254.630005  255.919998  253.110001  254.860001   37704300\n",
       "2025-10-31  262.820007  264.130005  259.179993  261.190002   38221700"
      ]
     },
     "execution_count": 76,
     "metadata": {},
     "output_type": "execute_result"
    }
   ],
   "source": [
    "monthly_data"
   ]
  },
  {
   "cell_type": "code",
   "execution_count": 93,
   "id": "90ffe95e-9473-47c8-9acd-262d81f4352e",
   "metadata": {},
   "outputs": [
    {
     "data": {
      "image/png": "[encoded data removed]",
      "text/plain": [
       "<Figure size 800x575 with 4 Axes>"
      ]
     },
     "metadata": {},
     "output_type": "display_data"
    }
   ],
   "source": [
    "mpf.plot(data ,type='candle' , style='charles', volume=True)\n",
    "mpf.show()"
   ]
  },
  {
   "cell_type": "code",
   "execution_count": null,
   "id": "db405a2f-1485-45a3-99ac-dace1825725f",
   "metadata": {},
   "outputs": [],
   "source": []
  },
  {
   "cell_type": "code",
   "execution_count": null,
   "id": "124735b1-3638-4351-b3eb-1058f72367e8",
   "metadata": {},
   "outputs": [],
   "source": []
  },
  {
   "cell_type": "code",
   "execution_count": null,
   "id": "ae6f07e6-30cf-49f0-8c91-07d29af2a0ce",
   "metadata": {},
   "outputs": [],
   "source": []
  }
 ],
 "metadata": {
  "kernelspec": {
   "display_name": "Python [conda env:base] *",
   "language": "python",
   "name": "conda-base-py"
  },
  "language_info": {
   "codemirror_mode": {
    "name": "ipython",
    "version": 3
   },
   "file_extension": ".py",
   "mimetype": "text/x-python",
   "name": "python",
   "nbconvert_exporter": "python",
   "pygments_lexer": "ipython3",
   "version": "3.13.5"
  }
 },
 "nbformat": 4,
 "nbformat_minor": 5
}
